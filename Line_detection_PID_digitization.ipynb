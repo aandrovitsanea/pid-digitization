{
 "cells": [
  {
   "cell_type": "markdown",
   "metadata": {},
   "source": [
    "# Line Detection for the P&ID digitization\n",
    "\n",
    "* Code to detect horizontal and vertical lines\n",
    "* Return the coordinates of the lines\n",
    "* Check for shifted lines and return unified line"
   ]
  },
  {
   "cell_type": "code",
   "execution_count": 5,
   "metadata": {},
   "outputs": [],
   "source": [
    "from PIL import Image\n",
    "import cv2\n",
    "import matplotlib.pyplot as plt\n",
    "import random, os\n",
    "import numpy as np\n",
    "import pandas as pd\n",
    "import math"
   ]
  },
  {
   "cell_type": "code",
   "execution_count": 22,
   "metadata": {},
   "outputs": [],
   "source": [
    "# function for image processing and \n",
    "# line detection\n",
    "# checks shifted lines and suggests\n",
    "# unified line\n",
    "\n",
    "from dataclasses import dataclass\n",
    "@dataclass(frozen=True)\n",
    "class Point:\n",
    "    x: int\n",
    "    y: int\n",
    "    def transpose(self):\n",
    "        return Point(self.y, self.x)\n",
    "    \n",
    "@dataclass(frozen=True)\n",
    "class Line:\n",
    "    a: Point\n",
    "    b: Point\n",
    "    def length(self):\n",
    "        return abs(self.a.x - self.b.x) + abs(self.a.y - self.b.y)\n",
    "    def transpose(self):\n",
    "        return Line(self.a.transpose(), self.b.transpose())\n",
    "   \n",
    "def prepare_image(path):\n",
    "    im = path\n",
    "    # import image\n",
    "    img = cv2.imread(im, cv2.IMREAD_UNCHANGED)\n",
    "    # transform to gray scale\n",
    "    img_gray = 255 - img[:, :, 3]\n",
    "    # tranform to one and zeros\n",
    "    image_new = np.empty((img_gray.shape[0], img_gray.shape[1]), \n",
    "                         dtype=int)\n",
    "    for row in range(img_gray.shape[0]):\n",
    "        for col in range(img_gray.shape[1]):\n",
    "            if img_gray[row][col] == 255:\n",
    "                image_new[row][col] = 0\n",
    "            else:\n",
    "                image_new[row][col] = int(math.ceil(img_gray[row][col]/255))\n",
    "    plt.imshow(image_new,cmap='gray', vmin=0, vmax=1)\n",
    "    return image_new\n",
    "    \n",
    "def horizontal_lines(image):\n",
    "\n",
    "    # find indices of horizontal parallel lines\n",
    "    def find_indices(image):\n",
    "        X_all=[]\n",
    "        Y_all=[]\n",
    "        for row in range(image.shape[0]):\n",
    "            X=[]\n",
    "            Y=[]\n",
    "            for col in range(image.shape[1]):\n",
    "                if image[row][col] != 0:\n",
    "                    X.append(col)\n",
    "                    Y.append(row)\n",
    "            if X != []:\n",
    "                X_all.append(X)\n",
    "                Y_all.append(Y)    \n",
    "        return X_all, Y_all\n",
    "\n",
    "    # find lines that are horizontal\n",
    "    def horizontal_line(X):\n",
    "        numbers = sorted(set(X))\n",
    "        gaps = [[start, end] for start, end in zip(numbers, numbers[1:]) if start + 1 < end]\n",
    "        edges = iter(numbers[:1] + sum(gaps, []) + numbers[-1:])\n",
    "        return list(zip(edges, edges))\n",
    "\n",
    "    # print coordinates of starting, ending point\n",
    "    def print_coordinates(image):\n",
    "        results = []\n",
    "        # calculate indices\n",
    "        X_all, Y_all = find_indices(image)\n",
    "        for i in range(len(X_all)):\n",
    "            for pair in horizontal_line(X_all[i]):\n",
    "                l = Line(Point(pair[0],Y_all[i][0]), Point(pair[1], Y_all[i][0]))\n",
    "                if l.length() > 1:\n",
    "                    results.append(l)\n",
    "        return results    \n",
    "    \n",
    "    return print_coordinates(image)\n",
    "\n",
    "def vertical_lines(image):\n",
    "    image = np.transpose(image)\n",
    "    lines = horizontal_lines(image)\n",
    "    return [l.transpose() for l in lines]\n",
    "\n",
    "def find_lines(path):\n",
    "    image = prepare_image(path)\n",
    "    hor_lines = horizontal_lines(image)\n",
    "#     print(\"hor lines\", hor_lines)\n",
    "    ver_lines = vertical_lines(image)\n",
    "#     print(\"\\nver lines\", ver_lines)\n",
    "#     return hor_lines + ver_lines\n",
    "    return hor_lines, ver_lines, hor_lines + ver_lines\n",
    "\n",
    "# check for lines that are a segment\n",
    "# but during scanning appear in a slightly\n",
    "# different X, or Y horizontally\n",
    "def find_shifted_lines_hor(lines):\n",
    "    x = []\n",
    "    y = []\n",
    "    for line1 in lines:\n",
    "        for line2 in lines:\n",
    "            if abs(line2.a.x - line1.b.x) < 3 and abs(line2.a.y - line1.b.y) < 3:\n",
    "                x.extend((line1.a.x, line1.b.x, line2.a.x, line2.b.x))\n",
    "                y.extend((line1.a.y, line1.b.y, line2.a.y, line2.b.y))\n",
    "                print(\"\\nLines that belong together are:\")                \n",
    "                print(\"Line 1, start x,y = %d,%d - end x,y = %d,%d\" %(line1.a.x, line1.a.y, line1.b.x, line1.b.y))\n",
    "                print(\"Line 2, start x,y = %d,%d - end x,y = %d,%d\\n\" %(line2.a.x, line2.a.y, line2.b.x, line2.b.y))\n",
    "                \n",
    "    print(\"x min and max\", min(x), max(x))\n",
    "    print(\"y min and max\", min(y), max(y))\n",
    "    \n",
    "    print(\"New continuous horizontal line start at x,y = %d, %d and ends at x,y = %d, %d\" %(min(x), min(y),  max(x), min(y)))\n",
    "    \n",
    "# check for lines that are a segment\n",
    "# but during scanning appear in a slightly\n",
    "# different X, or Y vertically\n",
    "def find_shifted_lines_ver(lines):\n",
    "    x = []\n",
    "    y = []\n",
    "    for line1 in lines:\n",
    "        for line2 in lines:\n",
    "            if abs(line2.a.x - line1.b.x) < 3 and abs(line2.a.y - line1.b.y) < 3:\n",
    "                x.extend((line1.a.x, line1.b.x, line2.a.x, line2.b.x))\n",
    "                y.extend((line1.a.y, line1.b.y, line2.a.y, line2.b.y))\n",
    "                print(\"\\nLines that belong together are:\")                \n",
    "                print(\"Line 1, start x,y = %d,%d - end x,y = %d,%d\" %(line1.a.x, line1.a.y, line1.b.x, line1.b.y))\n",
    "                print(\"Line 2, start x,y = %d,%d - end x,y = %d,%d\\n\" %(line2.a.x, line2.a.y, line2.b.x, line2.b.y))\n",
    "                \n",
    "    print(\"x min and max\", min(x), max(x))\n",
    "    print(\"y min and max\", min(y), max(y))\n",
    "    \n",
    "    print(\"New continuous vertical line start at x,y = %d, %d and ends at x,y = %d, %d\" %(min(x), min(y),  min(x), max(y)))    "
   ]
  },
  {
   "cell_type": "code",
   "execution_count": 23,
   "metadata": {},
   "outputs": [
    {
     "data": {
      "image/png": "[encoded data removed]",
      "text/plain": [
       "<Figure size 432x288 with 1 Axes>"
      ]
     },
     "metadata": {
      "needs_background": "light"
     },
     "output_type": "display_data"
    }
   ],
   "source": [
    "hor, ver, all_lines = find_lines('lines_offset_ver_hor_5dpi30x21.png')"
   ]
  },
  {
   "cell_type": "code",
   "execution_count": 24,
   "metadata": {},
   "outputs": [
    {
     "name": "stdout",
     "output_type": "stream",
     "text": [
      "Coordinates of lines detected: \n",
      " [Line(a=Point(x=10, y=1), b=Point(x=19, y=1)), Line(a=Point(x=1, y=2), b=Point(x=10, y=2)), Line(a=Point(x=19, y=2), b=Point(x=29, y=2)), Line(a=Point(x=13, y=8), b=Point(x=13, y=13)), Line(a=Point(x=14, y=13), b=Point(x=14, y=19))]\n",
      "\n",
      "Lines that belong together are:\n",
      "Line 1, start x,y = 10,1 - end x,y = 19,1\n",
      "Line 2, start x,y = 19,2 - end x,y = 29,2\n",
      "\n",
      "\n",
      "Lines that belong together are:\n",
      "Line 1, start x,y = 1,2 - end x,y = 10,2\n",
      "Line 2, start x,y = 10,1 - end x,y = 19,1\n",
      "\n",
      "x min and max 1 29\n",
      "y min and max 1 2\n",
      "New continuous horizontal line start at x,y = 1, 1 and ends at x,y = 29, 1\n",
      "\n",
      "Lines that belong together are:\n",
      "Line 1, start x,y = 13,8 - end x,y = 13,13\n",
      "Line 2, start x,y = 14,13 - end x,y = 14,19\n",
      "\n",
      "x min and max 13 14\n",
      "y min and max 8 19\n",
      "New continuous vertical line start at x,y = 13, 8 and ends at x,y = 13, 19\n"
     ]
    }
   ],
   "source": [
    "# coordinates of lines detected\n",
    "print(\"Coordinates of lines detected: \\n\", all_lines)\n",
    "# check for shifted lines in the horizontal axis\n",
    "find_shifted_lines_hor(hor)\n",
    "# check for shifted lines in the vertical axis\n",
    "find_shifted_lines_ver(ver)"
   ]
  },
  {
   "cell_type": "code",
   "execution_count": 25,
   "metadata": {},
   "outputs": [
    {
     "name": "stdout",
     "output_type": "stream",
     "text": [
      "\n",
      "Lines that belong together are:\n",
      "Line 1, start x,y = 10,1 - end x,y = 19,1\n",
      "Line 2, start x,y = 19,2 - end x,y = 29,2\n",
      "\n",
      "\n",
      "Lines that belong together are:\n",
      "Line 1, start x,y = 1,2 - end x,y = 10,2\n",
      "Line 2, start x,y = 10,1 - end x,y = 19,1\n",
      "\n",
      "x min and max 1 29\n",
      "y min and max 1 2\n",
      "New continuous horizontal line start at x,y = 1, 1 and ends at x,y = 29, 1\n"
     ]
    }
   ],
   "source": [
    "# check for shifted lines in the horizontal axis\n",
    "find_shifted_lines_hor(hor)"
   ]
  },
  {
   "cell_type": "code",
   "execution_count": 26,
   "metadata": {},
   "outputs": [
    {
     "name": "stdout",
     "output_type": "stream",
     "text": [
      "\n",
      "Lines that belong together are:\n",
      "Line 1, start x,y = 13,8 - end x,y = 13,13\n",
      "Line 2, start x,y = 14,13 - end x,y = 14,19\n",
      "\n",
      "x min and max 13 14\n",
      "y min and max 8 19\n",
      "New continuous vertical line start at x,y = 13, 8 and ends at x,y = 13, 19\n"
     ]
    }
   ],
   "source": [
    "# check for shifted lines in the vertical axis\n",
    "find_shifted_lines_ver(ver)"
   ]
  },
  {
   "cell_type": "code",
   "execution_count": null,
   "metadata": {},
   "outputs": [],
   "source": []
  }
 ],
 "metadata": {
  "kernelspec": {
   "display_name": "Python 3",
   "language": "python",
   "name": "python3"
  },
  "language_info": {
   "codemirror_mode": {
    "name": "ipython",
    "version": 3
   },
   "file_extension": ".py",
   "mimetype": "text/x-python",
   "name": "python",
   "nbconvert_exporter": "python",
   "pygments_lexer": "ipython3",
   "version": "3.8.6"
  }
 },
 "nbformat": 4,
 "nbformat_minor": 4
}
